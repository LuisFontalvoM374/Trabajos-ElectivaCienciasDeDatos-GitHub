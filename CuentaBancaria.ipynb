{
  "cells": [
    {
      "cell_type": "markdown",
      "metadata": {
        "id": "view-in-github",
        "colab_type": "text"
      },
      "source": [
        "<a href=\"https://colab.research.google.com/github/LuisFontalvoM374/Trabajos-ElectivaCienciasDeDatos-GitHub/blob/main/CuentaBancaria.ipynb\" target=\"_parent\"><img src=\"https://colab.research.google.com/assets/colab-badge.svg\" alt=\"Open In Colab\"/></a>"
      ]
    },
    {
      "cell_type": "markdown",
      "source": [
        "#ProyectoCuentaBancaria"
      ],
      "metadata": {
        "id": "ysMQFQ4sakGJ"
      }
    },
    {
      "cell_type": "markdown",
      "source": [
        "##ClaseCuentaBancaria"
      ],
      "metadata": {
        "id": "kqelsuyiasmA"
      }
    },
    {
      "cell_type": "code",
      "source": [
        "class CuentaBancaria:\n",
        "    # Datos del Cliente, indica su saldo y su nombre\n",
        "    def __init__(self, titular, saldo=0):\n",
        "        self.titular = titular\n",
        "        self.saldo = saldo\n",
        "\n",
        "    # Esta funcion le permite al usuario deposita o retirar\n",
        "    def depositar(self, monto):\n",
        "        self.saldo += monto\n",
        "        print(f\"Depositado ${monto}. Nuevo saldo: ${self.saldo}\")\n",
        "\n",
        "    def retirar(self, monto):\n",
        "        if monto <= self.saldo:\n",
        "            self.saldo -= monto\n",
        "            print(f\"Retirado ${monto}. Nuevo saldo: ${self.saldo}\")\n",
        "        else:\n",
        "            print(\"¡Fondos insuficientes!\")\n",
        "\n",
        "    # Sobrecarga de Funciones, aqui el cliente puede transfrir\n",
        "    def transferir(self, cuenta_destino, monto):\n",
        "        self.retirar(monto)\n",
        "        cuenta_destino.depositar(monto)\n",
        "\n",
        "    # Sobrecarga de Operadores\n",
        "    def __str__(self):\n",
        "        return f\"Titular de la cuenta: {self.titular}, Saldo: ${self.saldo}\"\n",
        "\n",
        "class CuentaDeAhorros(CuentaBancaria):\n",
        "    # Herencia\n",
        "    def __init__(self, titular, saldo=0, tasa_de_interes=0.01):\n",
        "        super().__init__(titular, saldo)\n",
        "        self.tasa_de_interes = tasa_de_interes\n",
        "\n",
        "    def agregar_interes(self):\n",
        "        interes = self.saldo * self.tasa_de_interes\n",
        "        self.depositar(interes)\n",
        "        print(f\"Interés agregado: ${interes}\")"
      ],
      "metadata": {
        "id": "spxFcO78ax95"
      },
      "execution_count": null,
      "outputs": []
    },
    {
      "cell_type": "markdown",
      "source": [
        "##Codigo completo Cuenta bancaria"
      ],
      "metadata": {
        "id": "iHJlLy-Obx2p"
      }
    },
    {
      "cell_type": "markdown",
      "source": [
        " 1.\n",
        " Implementación de clases\n",
        "  Implementa la clase Usuario con los atributos nombre y email, y el método\n",
        " registrarse().\n",
        "  Implementa la clase CuentaBancaria con los atributos numero_cuenta,\n",
        " saldo, y usuario, y los métodos depositar(cantidad: float),\n",
        " retirar(cantidad: float), y consultar_saldo().\n",
        "  Implementa la clase Banco con los atributos nombre y cuentas, y los métodos\n",
        " abrir_cuenta(usuario:\n",
        "buscar_cuenta(numero_cuenta:\n",
        "int),\n",
        "Usuario),\n",
        " realizar_transferencia(cuenta_origen:\n",
        "CuentaBancaria,\n",
        " cuenta_destino: CuentaBancaria, cantidad: float). *texto en cursiva*"
      ],
      "metadata": {
        "id": "C_Wrk_tMJfMa"
      }
    },
    {
      "cell_type": "markdown",
      "source": [
        "#Parte 1 – Encabezado, imports y clase Usuario"
      ],
      "metadata": {
        "id": "bDbDgaC3Em3u"
      }
    },
    {
      "cell_type": "code",
      "source": [
        "# ==========================\n",
        "# Asignatura: Lectiva tecnica, ciencia de datos\n",
        "# Programa: Cuenta Bancaria\n",
        "# Fecha: 20-09-25\n",
        "# Autor: Luis Eduardo Fontalvo Montenegro\n",
        "# ==========================\n",
        "\n",
        "# ==========================\n",
        "# Importamos librerías\n",
        "# ==========================\n",
        "import hashlib  # Sirve para encriptar contraseñas (hash SHA-256)\n",
        "\n",
        "\n",
        "# ==========================\n",
        "# CLASE USUARIO\n",
        "# ==========================\n",
        "class Usuario:\n",
        "    # Contador de IDs: atributo de clase (es compartido entre todos los objetos Usuario)\n",
        "    _id_counter = 1\n",
        "\n",
        "    def __init__(self, nombre: str, email: str):\n",
        "        \"\"\"\n",
        "        Constructor de la clase Usuario.\n",
        "        Crea un nuevo usuario con ID único, nombre y correo electrónico.\n",
        "\n",
        "        Parámetros:\n",
        "        - nombre (str): Nombre completo del usuario.\n",
        "        - email (str): Correo electrónico del usuario.\n",
        "        \"\"\"\n",
        "        # Asignamos un ID único automáticamente al usuario\n",
        "        self.id = Usuario._id_counter\n",
        "        Usuario._id_counter += 1  # Incrementamos el contador para el siguiente usuario\n",
        "\n",
        "        self.nombre = nombre  # Guardamos el nombre\n",
        "        self.email = email    # Guardamos el correo\n",
        "        self.password_hash = None  # Contraseña (guardada en forma encriptada, no en texto plano)\n",
        "\n",
        "    def registrarse(self):\n",
        "        \"\"\"\n",
        "        Muestra un mensaje confirmando que el usuario ha sido registrado correctamente.\n",
        "        \"\"\"\n",
        "        print(f\"[USUARIO] {self.nombre} registrado con correo {self.email} (ID: {self.id})\")\n",
        "\n",
        "    def set_password(self, password: str):\n",
        "        \"\"\"\n",
        "        Guarda una contraseña en forma segura usando SHA-256.\n",
        "\n",
        "        Parámetros:\n",
        "        - password (str): Contraseña en texto plano que se convertirá a hash.\n",
        "        \"\"\"\n",
        "        # Usamos hashlib para generar un hash único de la contraseña\n",
        "        self.password_hash = hashlib.sha256(password.encode()).hexdigest()\n",
        "        print(f\"[SEGURIDAD] Contraseña establecida para {self.nombre}\")\n",
        "\n",
        "    def check_password(self, password: str) -> bool:\n",
        "        \"\"\"\n",
        "        Verifica si la contraseña ingresada coincide con la guardada.\n",
        "\n",
        "        Parámetros:\n",
        "        - password (str): Contraseña en texto plano a verificar.\n",
        "\n",
        "        Retorna:\n",
        "        - True si coincide, False si no.\n",
        "        \"\"\"\n",
        "        if not self.password_hash:\n",
        "            print(\"[ERROR] No hay contraseña definida para este usuario.\")\n",
        "            return False\n",
        "        return self.password_hash == hashlib.sha256(password.encode()).hexdigest()"
      ],
      "metadata": {
        "id": "F01yKFNYHrR8"
      },
      "execution_count": null,
      "outputs": []
    },
    {
      "cell_type": "markdown",
      "source": [
        "Parte 2 – Clase CuentaBancaria y Banco"
      ],
      "metadata": {
        "id": "SewNOSdjHtYg"
      }
    },
    {
      "cell_type": "markdown",
      "source": [
        "2.\n",
        " Simulación de Operaciones Bancarias:\n",
        "  Crea una instancia de la clase Banco.\n",
        "  Registra 10 usuarios y abre cuentas bancarias para ellos.\n",
        "  Realiza 3 transacciones por cada usuario (depósitos, retiros) incluyendo mínimo 10\n",
        " transferencias entre las cuentas."
      ],
      "metadata": {
        "id": "tnk90AlNJyCn"
      }
    },
    {
      "cell_type": "code",
      "source": [
        "\n",
        "# ==========================\n",
        "# CLASE CUENTA BANCARIA\n",
        "# ==========================\n",
        "class CuentaBancaria:\n",
        "    def __init__(self, numero_cuenta: int, usuario: Usuario):\n",
        "        \"\"\"\n",
        "        Constructor de la clase CuentaBancaria.\n",
        "        Crea una cuenta asociada a un usuario con saldo inicial en 0.\n",
        "\n",
        "        Parámetros:\n",
        "        - numero_cuenta (int): Número único de cuenta.\n",
        "        - usuario (Usuario): Objeto de tipo Usuario que será dueño de la cuenta.\n",
        "        \"\"\"\n",
        "        self.numero_cuenta = numero_cuenta  # Identificador único de la cuenta\n",
        "        self.usuario_id = usuario.id        # Relación con el ID del usuario\n",
        "        self.usuario = usuario              # Relación directa con el objeto Usuario\n",
        "        self.saldo = 0.0                    # Saldo inicial de la cuenta\n",
        "\n",
        "    def depositar(self, cantidad: float):\n",
        "        \"\"\"\n",
        "        Incrementa el saldo de la cuenta en una cantidad determinada.\n",
        "\n",
        "        Parámetros:\n",
        "        - cantidad (float): Monto a depositar.\n",
        "        \"\"\"\n",
        "        self.saldo += cantidad\n",
        "        print(f\"[DEPÓSITO] +${cantidad} en cuenta {self.numero_cuenta}. Saldo: ${self.saldo}\")\n",
        "\n",
        "    def retirar(self, cantidad: float):\n",
        "        \"\"\"\n",
        "        Disminuye el saldo de la cuenta si hay fondos suficientes.\n",
        "\n",
        "        Parámetros:\n",
        "        - cantidad (float): Monto a retirar.\n",
        "        \"\"\"\n",
        "        if cantidad <= self.saldo:\n",
        "            self.saldo -= cantidad\n",
        "            print(f\"[RETIRO] -${cantidad} en cuenta {self.numero_cuenta}. Saldo: ${self.saldo}\")\n",
        "        else:\n",
        "            print(f\"[ERROR] Fondos insuficientes en cuenta {self.numero_cuenta}\")\n",
        "\n",
        "    def consultar_saldo(self):\n",
        "        \"\"\"\n",
        "        Retorna e imprime el saldo actual de la cuenta.\n",
        "\n",
        "        Retorna:\n",
        "        - saldo (float): Cantidad disponible en la cuenta.\n",
        "        \"\"\"\n",
        "        print(f\"[CONSULTA] Saldo de la cuenta {self.numero_cuenta}: ${self.saldo}\")\n",
        "        return self.saldo\n",
        "\n",
        "\n",
        "# ==========================\n",
        "# CLASE BANCO\n",
        "# ==========================\n",
        "class Banco:\n",
        "    def __init__(self, nombre: str):\n",
        "        \"\"\"\n",
        "        Constructor de la clase Banco.\n",
        "        Representa un banco con nombre y lista de cuentas.\n",
        "\n",
        "        Parámetros:\n",
        "        - nombre (str): Nombre del banco.\n",
        "        \"\"\"\n",
        "        self.nombre = nombre     # Nombre del banco\n",
        "        self.cuentas = []        # Lista que almacenará todas las cuentas creadas\n",
        "\n",
        "    def abrir_cuenta(self, usuario: Usuario):\n",
        "        \"\"\"\n",
        "        Crea una nueva cuenta bancaria para un usuario.\n",
        "\n",
        "        Parámetros:\n",
        "        - usuario (Usuario): Usuario al que se le asignará la cuenta.\n",
        "\n",
        "        Retorna:\n",
        "        - cuenta (CuentaBancaria): Objeto de cuenta creada.\n",
        "        \"\"\"\n",
        "        # Genera un número de cuenta único (1001, 1002, etc.)\n",
        "        numero_cuenta = 1000 + len(self.cuentas) + 1\n",
        "        cuenta = CuentaBancaria(numero_cuenta, usuario)\n",
        "        self.cuentas.append(cuenta)  # Agregamos la cuenta a la lista del banco\n",
        "        print(f\"[BANCO] Cuenta Nº{numero_cuenta} abierta para {usuario.nombre}\")\n",
        "        return cuenta\n",
        "\n",
        "    def buscar_cuenta(self, numero_cuenta: int):\n",
        "        \"\"\"\n",
        "        Busca una cuenta en la lista de cuentas por su número.\n",
        "\n",
        "        Parámetros:\n",
        "        - numero_cuenta (int): Número de la cuenta a buscar.\n",
        "\n",
        "        Retorna:\n",
        "        - CuentaBancaria si se encuentra, None si no existe.\n",
        "        \"\"\"\n",
        "        for cuenta in self.cuentas:\n",
        "            if cuenta.numero_cuenta == numero_cuenta:\n",
        "                return cuenta\n",
        "        print(f\"[ERROR] No se encontró la cuenta Nº{numero_cuenta}\")\n",
        "        return None\n",
        "\n",
        "    def realizar_transferencia(self, cuenta_origen: CuentaBancaria, cuenta_destino: CuentaBancaria, cantidad: float):\n",
        "        \"\"\"\n",
        "        Realiza una transferencia entre dos cuentas bancarias.\n",
        "\n",
        "        Parámetros:\n",
        "        - cuenta_origen (CuentaBancaria): Cuenta desde donde se envía el dinero.\n",
        "        - cuenta_destino (CuentaBancaria): Cuenta que recibe el dinero.\n",
        "        - cantidad (float): Monto a transferir.\n",
        "        \"\"\"\n",
        "        if cuenta_origen.saldo >= cantidad:\n",
        "            cuenta_origen.retirar(cantidad)      # Se descuenta en la cuenta origen\n",
        "            cuenta_destino.depositar(cantidad)   # Se suma en la cuenta destino\n",
        "            print(f\"[TRANSFERENCIA] ${cantidad} de {cuenta_origen.numero_cuenta} → {cuenta_destino.numero_cuenta}\")\n",
        "        else:\n",
        "            print(f\"[ERROR] Transferencia fallida: fondos insuficientes en {cuenta_origen.numero_cuenta}\")\n",
        "\n"
      ],
      "metadata": {
        "id": "zDPx-4exJII0"
      },
      "execution_count": null,
      "outputs": []
    },
    {
      "cell_type": "markdown",
      "source": [
        "#Parte 3 – Ejecución / Prueba"
      ],
      "metadata": {
        "id": "TxgSh9CmIT3d"
      }
    },
    {
      "cell_type": "code",
      "source": [
        "# ==========================\n",
        "# PRUEBA DE FUNCIONAMIENTO\n",
        "# ==========================\n",
        "if __name__ == \"__main__\":\n",
        "    # Creamos un banco\n",
        "    banco = Banco(\"Banco GPT\")\n",
        "\n",
        "    # Creamos dos usuarios\n",
        "    u1 = Usuario(\"Juan Pérez\", \"juan@example.com\")\n",
        "    u2 = Usuario(\"Ana Gómez\", \"ana@example.com\")\n",
        "\n",
        "    # Registramos usuarios\n",
        "    u1.registrarse()\n",
        "    u2.registrarse()\n",
        "\n",
        "    # Asignamos contraseñas a los usuarios\n",
        "    u1.set_password(\"1234\")\n",
        "    u2.set_password(\"abcd\")\n",
        "\n",
        "    # Verificamos contraseñas\n",
        "    print(\"Password correcto?\", u1.check_password(\"1234\"))   # True\n",
        "    print(\"Password incorrecto?\", u2.check_password(\"xxxx\")) # False\n",
        "\n",
        "    # Creamos cuentas bancarias para los usuarios\n",
        "    c1 = banco.abrir_cuenta(u1)\n",
        "    c2 = banco.abrir_cuenta(u2)\n",
        "\n",
        "    # Realizamos operaciones: depósitos, retiros y consultas\n",
        "    c1.depositar(500)      # Juan deposita 500\n",
        "    c1.retirar(200)        # Juan retira 200\n",
        "    c1.consultar_saldo()   # Consulta saldo de Juan\n",
        "\n",
        "    # Transferencia entre cuentas\n",
        "    banco.realizar_transferencia(c1, c2, 100)\n",
        "\n",
        "    # Mostramos el saldo final de cada cuenta\n",
        "    c1.consultar_saldo()\n",
        "    c2.consultar_saldo()"
      ],
      "metadata": {
        "colab": {
          "base_uri": "https://localhost:8080/"
        },
        "id": "D1q0np5SJTMN",
        "outputId": "ba3548ba-93d5-4808-8a2e-541bd6db6364"
      },
      "execution_count": null,
      "outputs": [
        {
          "output_type": "stream",
          "name": "stdout",
          "text": [
            "[USUARIO] Juan Pérez registrado con correo juan@example.com (ID: 1)\n",
            "[USUARIO] Ana Gómez registrado con correo ana@example.com (ID: 2)\n",
            "[SEGURIDAD] Contraseña establecida para Juan Pérez\n",
            "[SEGURIDAD] Contraseña establecida para Ana Gómez\n",
            "Password correcto? True\n",
            "Password incorrecto? False\n",
            "[BANCO] Cuenta Nº1001 abierta para Juan Pérez\n",
            "[BANCO] Cuenta Nº1002 abierta para Ana Gómez\n",
            "[DEPÓSITO] +$500 en cuenta 1001. Saldo: $500.0\n",
            "[RETIRO] -$200 en cuenta 1001. Saldo: $300.0\n",
            "[CONSULTA] Saldo de la cuenta 1001: $300.0\n",
            "[RETIRO] -$100 en cuenta 1001. Saldo: $200.0\n",
            "[DEPÓSITO] +$100 en cuenta 1002. Saldo: $100.0\n",
            "[TRANSFERENCIA] $100 de 1001 → 1002\n",
            "[CONSULTA] Saldo de la cuenta 1001: $200.0\n",
            "[CONSULTA] Saldo de la cuenta 1002: $100.0\n"
          ]
        }
      ]
    }
  ],
  "metadata": {
    "colab": {
      "provenance": [],
      "collapsed_sections": [
        "kqelsuyiasmA"
      ],
      "include_colab_link": true
    },
    "kernelspec": {
      "display_name": "Python 3",
      "name": "python3"
    }
  },
  "nbformat": 4,
  "nbformat_minor": 0
}